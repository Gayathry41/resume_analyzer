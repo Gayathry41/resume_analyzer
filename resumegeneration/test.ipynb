{
 "cells": [
  {
   "cell_type": "code",
   "execution_count": 1,
   "id": "5aba9422",
   "metadata": {},
   "outputs": [],
   "source": [
    "from resume_gen import generate_latex"
   ]
  },
  {
   "cell_type": "code",
   "execution_count": 2,
   "id": "75891ac1",
   "metadata": {},
   "outputs": [],
   "source": [
    "import json\n",
    "with open(\"data.json\", \"r\") as f: \n",
    "   resume_data= json.load(f)\n",
    "\n",
    "\n",
    "\n"
   ]
  },
  {
   "cell_type": "code",
   "execution_count": 3,
   "id": "d69208e6",
   "metadata": {},
   "outputs": [],
   "source": [
    "with open(\"resume.tex\", \"w\") as f:\n",
    "    f.write(generate_latex(resume_data))\n"
   ]
  },
  {
   "cell_type": "code",
   "execution_count": 4,
   "id": "2cf58a0f",
   "metadata": {},
   "outputs": [
    {
     "name": "stdout",
     "output_type": "stream",
     "text": [
      "✅ Successfully compiled resume1.tex to PDF.\n"
     ]
    }
   ],
   "source": [
    "import subprocess\n",
    "import os\n",
    "\n",
    "def compile_latex(filename):\n",
    "    try:\n",
    "        # Run pdflatex command\n",
    "        subprocess.run([\"pdflatex\", filename], check=True)\n",
    "        print(f\"✅ Successfully compiled {filename} to PDF.\")\n",
    "    except subprocess.CalledProcessError as e:\n",
    "        print(\"❌ Error during LaTeX compilation:\", e)\n",
    "    except FileNotFoundError:\n",
    "        print(\"❌ 'pdflatex' not found. Make sure LaTeX (like MiKTeX) is installed and added to PATH.\")\n",
    "\n",
    "# Usage\n",
    "compile_latex(\"resume1.tex\")\n"
   ]
  },
  {
   "cell_type": "code",
   "execution_count": null,
   "id": "481478f0",
   "metadata": {},
   "outputs": [],
   "source": []
  }
 ],
 "metadata": {
  "kernelspec": {
   "display_name": "base",
   "language": "python",
   "name": "python3"
  },
  "language_info": {
   "codemirror_mode": {
    "name": "ipython",
    "version": 3
   },
   "file_extension": ".py",
   "mimetype": "text/x-python",
   "name": "python",
   "nbconvert_exporter": "python",
   "pygments_lexer": "ipython3",
   "version": "3.12.7"
  }
 },
 "nbformat": 4,
 "nbformat_minor": 5
}
